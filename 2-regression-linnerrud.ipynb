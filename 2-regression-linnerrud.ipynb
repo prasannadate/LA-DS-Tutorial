{
 "cells": [
  {
   "cell_type": "markdown",
   "id": "5b92e44a-a208-43e9-b5ff-c3dd9cccb484",
   "metadata": {
    "tags": []
   },
   "source": [
    "# Regression on the Linnerud dataset"
   ]
  },
  {
   "cell_type": "code",
   "execution_count": 1,
   "id": "321b606c-bd61-4ae0-b1bb-e46ea4f181b0",
   "metadata": {},
   "outputs": [],
   "source": [
    "# Imports\n",
    "\n",
    "import numpy as np \n",
    "from sklearn.datasets import load_linnerud\n",
    "from sklearn.linear_model import LinearRegression\n",
    "from sklearn.model_selection import train_test_split"
   ]
  },
  {
   "cell_type": "code",
   "execution_count": 2,
   "id": "3d39ecba-a1fa-43e9-a95e-c7b7a8197d0a",
   "metadata": {},
   "outputs": [
    {
     "name": "stdout",
     "output_type": "stream",
     "text": [
      ".. _linnerrud_dataset:\n",
      "\n",
      "Linnerrud dataset\n",
      "-----------------\n",
      "\n",
      "**Data Set Characteristics:**\n",
      "\n",
      "    :Number of Instances: 20\n",
      "    :Number of Attributes: 3\n",
      "    :Missing Attribute Values: None\n",
      "\n",
      "The Linnerud dataset is a multi-output regression dataset. It consists of three\n",
      "exercise (data) and three physiological (target) variables collected from\n",
      "twenty middle-aged men in a fitness club:\n",
      "\n",
      "- *physiological* - CSV containing 20 observations on 3 physiological variables:\n",
      "   Weight, Waist and Pulse.\n",
      "- *exercise* - CSV containing 20 observations on 3 exercise variables:\n",
      "   Chins, Situps and Jumps.\n",
      "\n",
      ".. topic:: References\n",
      "\n",
      "  * Tenenhaus, M. (1998). La regression PLS: theorie et pratique. Paris:\n",
      "    Editions Technic.\n",
      "\n"
     ]
    }
   ],
   "source": [
    "# Load data\n",
    "data = load_linnerud()\n",
    "\n",
    "print(data[\"DESCR\"])"
   ]
  },
  {
   "cell_type": "code",
   "execution_count": 3,
   "id": "5a3354da-723b-40d4-a14b-b6df6f193c8b",
   "metadata": {},
   "outputs": [
    {
     "name": "stdout",
     "output_type": "stream",
     "text": [
      "Features names:\n",
      " ['Chins', 'Situps', 'Jumps'] \n",
      "\n",
      "Features:\n",
      " [[  5. 162.  60.]\n",
      " [  2. 110.  60.]\n",
      " [ 12. 101. 101.]\n",
      " [ 12. 105.  37.]\n",
      " [ 13. 155.  58.]\n",
      " [  4. 101.  42.]\n",
      " [  8. 101.  38.]\n",
      " [  6. 125.  40.]\n",
      " [ 15. 200.  40.]\n",
      " [ 17. 251. 250.]\n",
      " [ 17. 120.  38.]\n",
      " [ 13. 210. 115.]\n",
      " [ 14. 215. 105.]\n",
      " [  1.  50.  50.]\n",
      " [  6.  70.  31.]\n",
      " [ 12. 210. 120.]\n",
      " [  4.  60.  25.]\n",
      " [ 11. 230.  80.]\n",
      " [ 15. 225.  73.]\n",
      " [  2. 110.  43.]] \n",
      "\n",
      "Target names:\n",
      " ['Weight', 'Waist', 'Pulse'] \n",
      "\n",
      "Targets:\n",
      " [[191.  36.  50.]\n",
      " [189.  37.  52.]\n",
      " [193.  38.  58.]\n",
      " [162.  35.  62.]\n",
      " [189.  35.  46.]\n",
      " [182.  36.  56.]\n",
      " [211.  38.  56.]\n",
      " [167.  34.  60.]\n",
      " [176.  31.  74.]\n",
      " [154.  33.  56.]\n",
      " [169.  34.  50.]\n",
      " [166.  33.  52.]\n",
      " [154.  34.  64.]\n",
      " [247.  46.  50.]\n",
      " [193.  36.  46.]\n",
      " [202.  37.  62.]\n",
      " [176.  37.  54.]\n",
      " [157.  32.  52.]\n",
      " [156.  33.  54.]\n",
      " [138.  33.  68.]] \n",
      "\n",
      "Features shape: (20, 3)\n",
      "Targets shape: (20, 3)\n"
     ]
    }
   ],
   "source": [
    "# Extract features and targets \n",
    "features = data[\"data\"]\n",
    "targets = data[\"target\"]\n",
    "feature_names = data[\"feature_names\"]\n",
    "target_names = data[\"target_names\"]\n",
    "\n",
    "print(\"Features names:\\n\", feature_names, \"\\n\")\n",
    "print(\"Features:\\n\", features, \"\\n\")\n",
    "print(\"Target names:\\n\", target_names, \"\\n\")\n",
    "print(\"Targets:\\n\", targets, \"\\n\")\n",
    "\n",
    "# Shape of features and targets\n",
    "print(\"Features shape:\", features.shape)\n",
    "print(\"Targets shape:\", targets.shape)"
   ]
  },
  {
   "cell_type": "code",
   "execution_count": 4,
   "id": "0d4842fe-3244-445e-afdb-c6fc0c673252",
   "metadata": {},
   "outputs": [
    {
     "data": {
      "image/png": "[encoded data removed]",
      "text/plain": [
       "<Figure size 432x288 with 9 Axes>"
      ]
     },
     "metadata": {
      "needs_background": "light"
     },
     "output_type": "display_data"
    }
   ],
   "source": [
    "# Visualize the data\n",
    "import matplotlib.pyplot as plt \n",
    "\n",
    "fig, axs = plt.subplots(3, 3)\n",
    "\n",
    "for i in range(targets.shape[1]):\n",
    "    for j in range(features.shape[1]):\n",
    "        axs[i][j].scatter(features[:,j], targets[:,i])\n",
    "        axs[i][j].set_xlabel(feature_names[j])\n",
    "        axs[i][j].set_ylabel(target_names[i])\n",
    "\n",
    "fig.tight_layout()\n",
    "plt.show()"
   ]
  },
  {
   "cell_type": "markdown",
   "id": "698bcae1-0879-47ef-957c-7a59cc3e314c",
   "metadata": {},
   "source": [
    "**Data does not seem to be linear.** Don't expect much from a linear model."
   ]
  },
  {
   "cell_type": "code",
   "execution_count": 5,
   "id": "4b10d269-3ebb-4650-ae7f-5ddfffa8edc8",
   "metadata": {},
   "outputs": [
    {
     "name": "stdout",
     "output_type": "stream",
     "text": [
      "Train features shape: (16, 3)\n",
      "Test features shape: (4, 3)\n",
      "Train targets shape: (16, 3)\n",
      "Test targets shape: (4, 3)\n"
     ]
    }
   ],
   "source": [
    "# Split into training and test\n",
    "train_features, test_features, train_targets, test_targets = train_test_split(features, targets, test_size=0.2)\n",
    "\n",
    "print(\"Train features shape:\", train_features.shape)\n",
    "print(\"Test features shape:\", test_features.shape)\n",
    "print(\"Train targets shape:\", train_targets.shape)\n",
    "print(\"Test targets shape:\", test_targets.shape)"
   ]
  },
  {
   "cell_type": "code",
   "execution_count": 6,
   "id": "7229dced-877a-4b49-b7d2-c63c13a00c66",
   "metadata": {},
   "outputs": [
    {
     "name": "stdout",
     "output_type": "stream",
     "text": [
      "Train, test errors: 178.9262872461969 83.97247424828267\n"
     ]
    }
   ],
   "source": [
    "# Fit linear regression model\n",
    "reg = LinearRegression().fit(train_features, train_targets)\n",
    "\n",
    "\n",
    "# Compute Euclidean error\n",
    "train_predictions = reg.predict(train_features)\n",
    "test_predictions = reg.predict(test_features)\n",
    "\n",
    "train_error = np.mean((train_predictions - train_targets)**2)\n",
    "test_error = np.mean((test_predictions - test_targets)**2)\n",
    "\n",
    "print(\"Train, test errors:\", train_error, test_error)"
   ]
  },
  {
   "cell_type": "markdown",
   "id": "aa0f41c8-8289-460d-81a4-6159ae63f103",
   "metadata": {},
   "source": [
    "## Try second order polynomial expansion"
   ]
  },
  {
   "cell_type": "code",
   "execution_count": 7,
   "id": "10d1de66-65b7-40b6-bd87-c74307a21628",
   "metadata": {},
   "outputs": [
    {
     "name": "stdout",
     "output_type": "stream",
     "text": [
      "Train features shape: (16, 10)\n",
      "Test features shape: (4, 10)\n",
      "Train, test errors: 13.376333101646239 9.163649614006564\n"
     ]
    }
   ],
   "source": [
    "from sklearn.preprocessing import PolynomialFeatures\n",
    "\n",
    "# Compute second order polynomial features\n",
    "poly = PolynomialFeatures(degree=2, interaction_only=False)\n",
    "train_features = poly.fit_transform(train_features)\n",
    "test_features = poly.fit_transform(test_features)\n",
    "\n",
    "print(\"Train features shape:\", train_features.shape)\n",
    "print(\"Test features shape:\", test_features.shape)\n",
    "\n",
    "\n",
    "# Fit regression model again\n",
    "reg = LinearRegression().fit(train_features, train_targets)\n",
    "\n",
    "\n",
    "# Euclidean errors\n",
    "train_error = np.sqrt(np.mean((train_predictions - train_targets)**2))\n",
    "test_error = np.sqrt(np.mean((test_predictions - test_targets)**2))\n",
    "\n",
    "print(\"Train, test errors:\", train_error, test_error)"
   ]
  },
  {
   "cell_type": "markdown",
   "id": "39649224-90bb-4710-ab93-2ffa1905d23e",
   "metadata": {},
   "source": [
    "**Results are MUCH better than last time!** Let's see what happens with third order polynomial expansion."
   ]
  },
  {
   "cell_type": "markdown",
   "id": "f19b91ed-1087-4e04-8a4d-bed8f7b39b4f",
   "metadata": {},
   "source": [
    "## Try third order polynomial expansion"
   ]
  },
  {
   "cell_type": "code",
   "execution_count": 8,
   "id": "0bc9d619-273d-4365-b269-14915cd6b7de",
   "metadata": {},
   "outputs": [
    {
     "name": "stdout",
     "output_type": "stream",
     "text": [
      "Train features shape: (16, 286)\n",
      "Test features shape: (4, 286)\n",
      "Train, test errors: 13.376333101646239 9.163649614006564\n"
     ]
    }
   ],
   "source": [
    "# Compute third order polynomial features\n",
    "poly = PolynomialFeatures(degree=3, interaction_only=False)\n",
    "train_features = poly.fit_transform(train_features)\n",
    "test_features = poly.fit_transform(test_features)\n",
    "\n",
    "print(\"Train features shape:\", train_features.shape)\n",
    "print(\"Test features shape:\", test_features.shape)\n",
    "\n",
    "\n",
    "# Fit regression model again\n",
    "reg = LinearRegression().fit(train_features, train_targets)\n",
    "\n",
    "\n",
    "# Euclidean errors\n",
    "train_error = np.sqrt(np.mean((train_predictions - train_targets)**2))\n",
    "test_error = np.sqrt(np.mean((test_predictions - test_targets)**2))\n",
    "\n",
    "print(\"Train, test errors:\", train_error, test_error)"
   ]
  }
 ],
 "metadata": {
  "kernelspec": {
   "display_name": "Python 3 (ipykernel)",
   "language": "python",
   "name": "python3"
  },
  "language_info": {
   "codemirror_mode": {
    "name": "ipython",
    "version": 3
   },
   "file_extension": ".py",
   "mimetype": "text/x-python",
   "name": "python",
   "nbconvert_exporter": "python",
   "pygments_lexer": "ipython3",
   "version": "3.9.7"
  }
 },
 "nbformat": 4,
 "nbformat_minor": 5
}
