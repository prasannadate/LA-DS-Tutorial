{
 "cells": [
  {
   "cell_type": "markdown",
   "id": "09316316-6815-4ddd-88de-3977824ee576",
   "metadata": {},
   "source": [
    "## Deep Neural Network on MNIST dataset"
   ]
  },
  {
   "cell_type": "code",
   "execution_count": 1,
   "id": "00610d8d-0818-41c1-9548-9fc7ee514618",
   "metadata": {},
   "outputs": [],
   "source": [
    "# Imports\n",
    "import tensorflow as tf "
   ]
  },
  {
   "cell_type": "code",
   "execution_count": 3,
   "id": "6aae9c6a-4587-40d5-aa36-7ee8e20f7007",
   "metadata": {},
   "outputs": [],
   "source": [
    "# Load MNIST dataset\n",
    "mnist = tf.keras.datasets.mnist\n",
    "(Xtrain, Ytrain), (Xtest, Ytest) = mnist.load_data()\n",
    "\n",
    "# Data is in the range [0,255] - we want to scale it to the range [0,1]\n",
    "Xtrain = Xtrain / 255.0\n",
    "Xtest = Xtest/255.0"
   ]
  },
  {
   "cell_type": "code",
   "execution_count": 12,
   "id": "e23e4d09-a461-42dd-a848-5fefcad27eb0",
   "metadata": {},
   "outputs": [],
   "source": [
    "# Build the neural network\n",
    "model = tf.keras.models.Sequential([\n",
    "    tf.keras.layers.Flatten(input_shape=(28,28)),\n",
    "    tf.keras.layers.Dense(128, activation=\"relu\"),\n",
    "    tf.keras.layers.Dense(10),\n",
    "    tf.keras.layers.Softmax()\n",
    "])"
   ]
  },
  {
   "cell_type": "code",
   "execution_count": null,
   "id": "53b7c137-bd8c-47b3-bd1e-1d7673697062",
   "metadata": {},
   "outputs": [],
   "source": [
    "# Define loss function\n",
    "loss_function = tf.keras.losses.SparseCategoricalCrossentropy(from_logits=False)"
   ]
  },
  {
   "cell_type": "code",
   "execution_count": 14,
   "id": "0e06ccee-e49c-4f81-a098-dff9b216eaf6",
   "metadata": {},
   "outputs": [],
   "source": [
    "# Compile model\n",
    "model.compile(optimizer=\"adam\", loss=loss_function, metrics=[\"accuracy\"])"
   ]
  },
  {
   "cell_type": "code",
   "execution_count": null,
   "id": "a8bedafd-3552-49fc-a387-a581879238b0",
   "metadata": {},
   "outputs": [
    {
     "name": "stdout",
     "output_type": "stream",
     "text": [
      "Epoch 1/10\n",
      "1875/1875 [==============================] - 3s 1ms/step - loss: 1.5704 - accuracy: 0.9080\n",
      "Epoch 2/10\n",
      "1875/1875 [==============================] - 3s 1ms/step - loss: 1.5162 - accuracy: 0.9498\n",
      "Epoch 3/10\n",
      "1875/1875 [==============================] - 3s 1ms/step - loss: 1.5023 - accuracy: 0.9625\n",
      "Epoch 4/10\n",
      "1875/1875 [==============================] - 3s 1ms/step - loss: 1.4939 - accuracy: 0.9702\n",
      "Epoch 5/10\n",
      "1875/1875 [==============================] - 3s 1ms/step - loss: 1.4891 - accuracy: 0.9746\n",
      "Epoch 6/10\n",
      "1875/1875 [==============================] - 3s 1ms/step - loss: 1.4856 - accuracy: 0.9777\n",
      "Epoch 7/10\n",
      "1875/1875 [==============================] - 3s 1ms/step - loss: 1.4826 - accuracy: 0.9802\n",
      "Epoch 8/10\n",
      "1875/1875 [==============================] - 2s 1ms/step - loss: 1.4804 - accuracy: 0.9823\n",
      "Epoch 9/10\n",
      "1875/1875 [==============================] - 3s 1ms/step - loss: 1.4789 - accuracy: 0.9837\n",
      "Epoch 10/10\n",
      " 593/1875 [========>.....................] - ETA: 1s - loss: 1.4766 - accuracy: 0.9855"
     ]
    }
   ],
   "source": [
    "# Train model\n",
    "model.fit(Xtrain, Ytrain, epochs=10)"
   ]
  },
  {
   "cell_type": "code",
   "execution_count": 9,
   "id": "7241dd73-f65a-4d24-8ce3-7af50dae2178",
   "metadata": {},
   "outputs": [
    {
     "name": "stdout",
     "output_type": "stream",
     "text": [
      "313/313 [==============================] - 0s 868us/step - loss: 0.0760 - accuracy: 0.9790\n"
     ]
    },
    {
     "data": {
      "text/plain": [
       "[0.07602987438440323, 0.9789999723434448]"
      ]
     },
     "execution_count": 9,
     "metadata": {},
     "output_type": "execute_result"
    }
   ],
   "source": [
    "# Test model\n",
    "model.evaluate(Xtest, Ytest)"
   ]
  }
 ],
 "metadata": {
  "kernelspec": {
   "display_name": "Python 3 (ipykernel)",
   "language": "python",
   "name": "python3"
  },
  "language_info": {
   "codemirror_mode": {
    "name": "ipython",
    "version": 3
   },
   "file_extension": ".py",
   "mimetype": "text/x-python",
   "name": "python",
   "nbconvert_exporter": "python",
   "pygments_lexer": "ipython3",
   "version": "3.9.7"
  }
 },
 "nbformat": 4,
 "nbformat_minor": 5
}
