{
 "cells": [
  {
   "cell_type": "markdown",
   "id": "9987aef8-d40f-4d33-9d93-fcbd03f01bae",
   "metadata": {
    "tags": []
   },
   "source": [
    "# Linear Algebra in Python\n",
    "\n",
    "In this notebook, we will cover basic linear algebra \n",
    "functionalities in Python using numpy."
   ]
  },
  {
   "cell_type": "code",
   "execution_count": 1,
   "id": "f4314ed6-7820-4bf0-9b48-60cf2dd05dac",
   "metadata": {},
   "outputs": [],
   "source": [
    "# Import numpy\n",
    "import numpy as np"
   ]
  },
  {
   "cell_type": "markdown",
   "id": "1cf04b2c-0798-4b87-a332-14e57a5d14cd",
   "metadata": {},
   "source": [
    "## Vectors and matrices in numpy"
   ]
  },
  {
   "cell_type": "code",
   "execution_count": 2,
   "id": "7ab1aed5-2e35-4242-8408-2d92e75c97ed",
   "metadata": {},
   "outputs": [
    {
     "name": "stdout",
     "output_type": "stream",
     "text": [
      "v: [2 3]\n",
      "\n",
      "A:\n",
      " [[ 0  1]\n",
      " [-1  1]]\n",
      "\n",
      "Type of v: <class 'numpy.ndarray'>\n",
      "Type of A: <class 'numpy.ndarray'>\n"
     ]
    }
   ],
   "source": [
    "# Create a vector v\n",
    "v = np.array([2, 3])\n",
    "\n",
    "# Create a matrix A\n",
    "A = np.array([[0,1],[-1,1]])\n",
    "\n",
    "# Print v and A\n",
    "print(\"v:\", v)\n",
    "print(\"\\nA:\\n\", A)\n",
    "\n",
    "# Check the type of v and A\n",
    "print(\"\\nType of v:\", type(v))\n",
    "print(\"Type of A:\", type(A))"
   ]
  },
  {
   "cell_type": "markdown",
   "id": "e74237b0-5a25-4798-a06e-065fe2e9f20a",
   "metadata": {},
   "source": [
    "## Plotting vectors"
   ]
  },
  {
   "cell_type": "code",
   "execution_count": 3,
   "id": "1e6db474-6266-4dd3-a5b5-8ab1ea67479e",
   "metadata": {},
   "outputs": [
    {
     "data": {
      "image/png": "[encoded data removed]",
      "text/plain": [
       "<Figure size 432x288 with 1 Axes>"
      ]
     },
     "metadata": {
      "needs_background": "light"
     },
     "output_type": "display_data"
    }
   ],
   "source": [
    "# Import matplotlib.pyplot\n",
    "import matplotlib.pyplot as plt \n",
    "\n",
    "# matplotlib function to plot vectors\n",
    "plt.quiver(0, 0, v[0], v[1], angles=\"xy\", scale_units=\"xy\", scale=1, label=\"v = (2,3)\")\n",
    "\n",
    "# Setting limits of x and y axes\n",
    "low = -5\n",
    "high = 5\n",
    "plt.xlim(low, high)\n",
    "plt.ylim(low, high)\n",
    "\n",
    "# Setting xticks and yticks\n",
    "plt.xticks(np.arange(low, high+1), np.arange(low, high+1))\n",
    "plt.yticks(np.arange(low, high+1), np.arange(low, high+1))\n",
    "\n",
    "# Showing legend\n",
    "plt.legend()\n",
    "\n",
    "# Plot\n",
    "plt.show()"
   ]
  },
  {
   "cell_type": "markdown",
   "id": "45129ba8-a429-4b66-ba27-e268301c99fe",
   "metadata": {},
   "source": [
    "## Inner Product (Dot Product)"
   ]
  },
  {
   "cell_type": "code",
   "execution_count": 4,
   "id": "b246cc34-9be5-440e-a70f-b3a57f078cf2",
   "metadata": {},
   "outputs": [
    {
     "name": "stdout",
     "output_type": "stream",
     "text": [
      "Inner product: 2\n"
     ]
    }
   ],
   "source": [
    "# Given two vectors u and v, find their inner product\n",
    "u = np.array([4, -2])\n",
    "\n",
    "# Inner product\n",
    "inner = np.dot(u, v)\n",
    "\n",
    "print(\"Inner product:\", inner)"
   ]
  },
  {
   "cell_type": "markdown",
   "id": "800c7dfd-b064-4dc2-887a-26fb6fc24564",
   "metadata": {},
   "source": [
    "## Outer Product"
   ]
  },
  {
   "cell_type": "code",
   "execution_count": 5,
   "id": "1b88ba17-ca40-4fec-8819-bc81de968667",
   "metadata": {},
   "outputs": [
    {
     "name": "stdout",
     "output_type": "stream",
     "text": [
      "Outer product:\n",
      " [[ 8 12]\n",
      " [-4 -6]]\n"
     ]
    }
   ],
   "source": [
    "# Given two vectors u and v, find their outer product\n",
    "outer = np.outer(u, v)\n",
    "\n",
    "print(\"Outer product:\\n\", outer)"
   ]
  },
  {
   "cell_type": "markdown",
   "id": "18ae22c6-3c6e-4772-a91d-97d40d760b09",
   "metadata": {},
   "source": [
    "## Matrix-Vector Product"
   ]
  },
  {
   "cell_type": "code",
   "execution_count": 6,
   "id": "b8f88eae-08d3-4ab1-a46e-6ae07bbc2b61",
   "metadata": {},
   "outputs": [
    {
     "name": "stdout",
     "output_type": "stream",
     "text": [
      "u = A @ v: [25 34 26]\n"
     ]
    }
   ],
   "source": [
    "# Given a matrix A and vector v, find their product\n",
    "A = np.array([[1,6,4],[6,2,8],[0,7,4]])\n",
    "v = np.array([1,2,3])\n",
    "\n",
    "# Matrix-vector product using the '@' operator in Python\n",
    "u = A @ v\n",
    "# u = np.matmul(A, v)  # Alternate way of matrix-vector product\n",
    "\n",
    "print(\"u = A @ v:\", u)"
   ]
  },
  {
   "cell_type": "markdown",
   "id": "7b94ea69-0a14-44dd-81fb-ae03af685175",
   "metadata": {},
   "source": [
    "## Matrix-Matrix Product"
   ]
  },
  {
   "cell_type": "code",
   "execution_count": 7,
   "id": "99606ebc-c65a-4560-a07d-8557dbd96a25",
   "metadata": {},
   "outputs": [
    {
     "name": "stdout",
     "output_type": "stream",
     "text": [
      "A @ B:\n",
      " [[ 25  60  85]\n",
      " [ 34  76 126]\n",
      " [ 26  62  84]]\n"
     ]
    }
   ],
   "source": [
    "# Given two matrices A and B, find their product\n",
    "B = np.array([[1,4,9],[2,6,8],[3,5,7]])\n",
    "\n",
    "# Matrix-matrix product\n",
    "C = A @ B\n",
    "\n",
    "print(\"A @ B:\\n\", C)"
   ]
  },
  {
   "cell_type": "code",
   "execution_count": 8,
   "id": "feecc6cb-e84a-47db-88d9-a946d214c3dc",
   "metadata": {},
   "outputs": [
    {
     "name": "stdout",
     "output_type": "stream",
     "text": [
      "B @ A:\n",
      " [[25 77 72]\n",
      " [38 80 88]\n",
      " [33 77 80]]\n"
     ]
    }
   ],
   "source": [
    "# Test commutativity\n",
    "D = B @ A\n",
    "\n",
    "print(\"B @ A:\\n\", D)"
   ]
  },
  {
   "cell_type": "code",
   "execution_count": 9,
   "id": "0f5e7f1d-9720-453a-bf35-90f6ef9bbba1",
   "metadata": {},
   "outputs": [
    {
     "name": "stdout",
     "output_type": "stream",
     "text": [
      "False\n"
     ]
    }
   ],
   "source": [
    "# Check if C equals D\n",
    "print(np.array_equal(C, D))"
   ]
  },
  {
   "cell_type": "markdown",
   "id": "58f16276-2ef7-4a8b-99da-d991aebe7fa4",
   "metadata": {},
   "source": [
    "## Transpose of a Matrix"
   ]
  },
  {
   "cell_type": "code",
   "execution_count": 10,
   "id": "ba5aa848-2e0f-405d-b6e1-d1f0c62e2fc2",
   "metadata": {},
   "outputs": [
    {
     "name": "stdout",
     "output_type": "stream",
     "text": [
      "A:\n",
      " [[1 6 4]\n",
      " [6 2 8]\n",
      " [0 7 4]] \n",
      "\n",
      "E:\n",
      " [[1 6 0]\n",
      " [6 2 7]\n",
      " [4 8 4]]\n"
     ]
    }
   ],
   "source": [
    "# Find transpose of A\n",
    "E = A.T\n",
    "\n",
    "print(\"A:\\n\", A, \"\\n\")\n",
    "print(\"E:\\n\", E)"
   ]
  },
  {
   "cell_type": "markdown",
   "id": "f8bdb151-38e1-4c31-99b3-6b39d9cfd305",
   "metadata": {},
   "source": [
    "## Eigenvalues and Eigenvectors"
   ]
  },
  {
   "cell_type": "code",
   "execution_count": 11,
   "id": "3342a699-7ac1-48e0-b2f6-c54f1abfbea2",
   "metadata": {},
   "outputs": [
    {
     "name": "stdout",
     "output_type": "stream",
     "text": [
      "Eigenvalues: [-6.2015464   0.29996338 12.90158301] \n",
      "\n",
      "Eigenvectors:\n",
      " [[ 0.34925235  0.7229483   0.5170327 ]\n",
      " [-0.77263018  0.32286612  0.67284481]\n",
      " [ 0.53015602 -0.61082176  0.52910967]]\n"
     ]
    }
   ],
   "source": [
    "# Find eigenvalues and eigenvectors of A\n",
    "eigenval, eigenvec = np.linalg.eig(A)\n",
    "\n",
    "print(\"Eigenvalues:\", eigenval, \"\\n\")\n",
    "print(\"Eigenvectors:\\n\", eigenvec)"
   ]
  },
  {
   "cell_type": "markdown",
   "id": "948a352d-0c4b-46b3-a12f-cabc58eda261",
   "metadata": {},
   "source": [
    "## Eigendecomposition"
   ]
  },
  {
   "cell_type": "code",
   "execution_count": 12,
   "id": "4a83150a-a84d-40d7-9dc9-4ea40d271071",
   "metadata": {},
   "outputs": [
    {
     "name": "stdout",
     "output_type": "stream",
     "text": [
      "V:\n",
      " [[ 0.34925235  0.7229483   0.5170327 ]\n",
      " [-0.77263018  0.32286612  0.67284481]\n",
      " [ 0.53015602 -0.61082176  0.52910967]] \n",
      "\n",
      "L:\n",
      " [[-6.2015464   0.          0.        ]\n",
      " [ 0.          0.29996338  0.        ]\n",
      " [ 0.          0.         12.90158301]] \n",
      "\n",
      "Vinv:\n",
      " [[ 0.63786218 -0.76559902  0.35027468]\n",
      " [ 0.83925552 -0.09791827 -0.69558121]\n",
      " [ 0.32974081  0.65407294  0.73599794]] \n",
      "\n"
     ]
    }
   ],
   "source": [
    "# Find eigendecomposition of A\n",
    "V = eigenvec\n",
    "L = np.diag(eigenval)\n",
    "Vinv = np.linalg.inv(V)\n",
    "\n",
    "print(\"V:\\n\", V, \"\\n\")\n",
    "print(\"L:\\n\", L, \"\\n\")\n",
    "print(\"Vinv:\\n\", Vinv, \"\\n\")"
   ]
  },
  {
   "cell_type": "code",
   "execution_count": 13,
   "id": "45f47067-37fe-47e2-be74-99adc1740b28",
   "metadata": {},
   "outputs": [
    {
     "name": "stdout",
     "output_type": "stream",
     "text": [
      "A:\n",
      " [[1 6 4]\n",
      " [6 2 8]\n",
      " [0 7 4]] \n",
      "\n",
      "B:\n",
      " [[1 6 4]\n",
      " [6 2 8]\n",
      " [0 7 4]] \n",
      "\n",
      "A equals B? True\n"
     ]
    }
   ],
   "source": [
    "# Check if V @ L @ Vinv indeed equals A\n",
    "B = V @ L @ Vinv\n",
    "B = np.round(B).astype(int)\n",
    "\n",
    "print(\"A:\\n\", A, \"\\n\")\n",
    "print(\"B:\\n\", B, \"\\n\")\n",
    "print(\"A equals B?\", np.array_equal(A, B))"
   ]
  }
 ],
 "metadata": {
  "kernelspec": {
   "display_name": "Python 3 (ipykernel)",
   "language": "python",
   "name": "python3"
  },
  "language_info": {
   "codemirror_mode": {
    "name": "ipython",
    "version": 3
   },
   "file_extension": ".py",
   "mimetype": "text/x-python",
   "name": "python",
   "nbconvert_exporter": "python",
   "pygments_lexer": "ipython3",
   "version": "3.9.7"
  }
 },
 "nbformat": 4,
 "nbformat_minor": 5
}
