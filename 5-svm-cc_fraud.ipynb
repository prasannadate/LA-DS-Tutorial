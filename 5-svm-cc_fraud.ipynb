{
 "cells": [
  {
   "cell_type": "markdown",
   "id": "09e6f8ab-4b09-4e89-bec0-513a3432e8be",
   "metadata": {},
   "source": [
    "## SVM Classification on the Credit Card Fraud Detection dataset (Kaggle)\n",
    "\n",
    "The dataset contains transactions made by credit cards in September 2013 by European cardholders.\n",
    "This dataset presents transactions that occurred in two days, where we have 492 frauds out of 284,807 transactions. The dataset is highly unbalanced, the positive class (frauds) account for 0.172% of all transactions.\n",
    "\n",
    "It contains only numerical input variables which are the result of a PCA transformation. Unfortunately, due to confidentiality issues, we cannot provide the original features and more background information about the data. Features V1, V2, … V28 are the principal components obtained with PCA, the only features which have not been transformed with PCA are 'Time' and 'Amount'. Feature 'Time' contains the seconds elapsed between each transaction and the first transaction in the dataset. The feature 'Amount' is the transaction Amount, this feature can be used for example-dependant cost-sensitive learning. Feature 'Class' is the response variable and it takes value 1 in case of fraud and 0 otherwise.\n",
    "\n",
    "Given the class imbalance ratio, we recommend measuring the accuracy using the Area Under the Precision-Recall Curve (AUPRC). Confusion matrix accuracy is not meaningful for unbalanced classification.\n",
    "\n",
    "Kaggle Link: https://www.kaggle.com/datasets/mlg-ulb/creditcardfraud"
   ]
  },
  {
   "cell_type": "code",
   "execution_count": 1,
   "id": "6ca56883-bd63-4d39-8334-2f37f1034b8f",
   "metadata": {},
   "outputs": [],
   "source": [
    "# Imports\n",
    "import numpy as np \n",
    "import pandas as pd\n",
    "import matplotlib.pyplot as plt \n",
    "from sklearn import svm\n",
    "from sklearn.model_selection import train_test_split"
   ]
  },
  {
   "cell_type": "code",
   "execution_count": 2,
   "id": "00e2c66d-58a4-460d-a4f3-364fcda21ac5",
   "metadata": {},
   "outputs": [
    {
     "name": "stdout",
     "output_type": "stream",
     "text": [
      "\n",
      "Features shape, type: (284807, 30) <class 'numpy.ndarray'> <class 'numpy.float64'>\n",
      "Labels shape, type: (284807,) <class 'numpy.ndarray'> <class 'numpy.float64'>\n",
      "\n",
      "Features:\n",
      " [[  0.     0.     1.   ...  23.    23.    23.  ]\n",
      " [ 24.    25.    26.   ...  39.    40.    41.  ]\n",
      " [ 41.    41.    41.   ...  56.    56.    59.  ]\n",
      " ...\n",
      " [ 37.14  11.99 157.04 ...   8.99  52.34  10.  ]\n",
      " [  9.42 220.28   7.88 ...   7.    12.99   7.22]\n",
      " [  1.    80.    25.   ...  67.88  10.   217.  ]] \n",
      "\n",
      "Labels:\n",
      " [0. 0. 0. ... 0. 0. 0.] \n",
      "\n",
      "Fraction of frauds: 0.001727485630620034\n"
     ]
    }
   ],
   "source": [
    "# Load data\n",
    "path = \"data/credit-card-fraud/\"\n",
    "num_columns = 30\n",
    "\n",
    "features = []\n",
    "for i in range(num_columns):\n",
    "    features.append(np.array(pd.read_csv(path + f\"col_{i}.csv\")))\n",
    "\n",
    "features = np.concatenate(features)\n",
    "features = features.reshape([-1, num_columns])\n",
    "    \n",
    "labels = np.array(pd.read_csv(path + f\"col_{num_columns}.csv\")).astype(float)\n",
    "labels = labels.reshape([-1])\n",
    "\n",
    "print(\"\\nFeatures shape, type:\", features.shape, type(features), type(features[0,0]))\n",
    "print(\"Labels shape, type:\", labels.shape, type(labels), type(labels[0]))\n",
    "\n",
    "print(\"\\nFeatures:\\n\", features, \"\\n\")\n",
    "print(\"Labels:\\n\", labels, \"\\n\")\n",
    "\n",
    "print(\"Fraction of frauds:\", np.mean(labels))"
   ]
  },
  {
   "cell_type": "code",
   "execution_count": 3,
   "id": "73ac6c1a-f69d-4c29-a733-f0bf5be2b64e",
   "metadata": {},
   "outputs": [
    {
     "name": "stdout",
     "output_type": "stream",
     "text": [
      "\n",
      "Normal features shape: (284315, 30)\n",
      "Normal labels shape: (284315,)\n",
      "Fraud features shape: (492, 30)\n",
      "Fruad labels shape: (492,)\n"
     ]
    }
   ],
   "source": [
    "# Separate normal and fraudulent features and labels\n",
    "normal_features = features[labels==0, :]\n",
    "normal_labels = labels[labels==0]\n",
    "fraud_features = features[labels==1, :]\n",
    "fraud_labels = labels[labels==1]\n",
    "\n",
    "del features\n",
    "del labels\n",
    "\n",
    "print(\"\\nNormal features shape:\", normal_features.shape)\n",
    "print(\"Normal labels shape:\", normal_labels.shape)\n",
    "print(\"Fraud features shape:\", fraud_features.shape)\n",
    "print(\"Fruad labels shape:\", fraud_labels.shape)"
   ]
  },
  {
   "cell_type": "markdown",
   "id": "48f55874-d005-4015-9add-34719766fde5",
   "metadata": {},
   "source": [
    "## SVM approach"
   ]
  },
  {
   "cell_type": "code",
   "execution_count": 4,
   "id": "1b8db2a2-a092-4831-8f52-2eb1b336f8c2",
   "metadata": {},
   "outputs": [
    {
     "name": "stdout",
     "output_type": "stream",
     "text": [
      "Split complete\n",
      "Training and test sets prepared\n"
     ]
    }
   ],
   "source": [
    "Xtrain_normal, Xtest_normal, Ytrain_normal, Ytest_normal = train_test_split(normal_features, normal_labels, test_size=0.2)\n",
    "Xtrain_fraud, Xtest_fraud, Ytrain_fraud, Ytest_fraud = train_test_split(fraud_features, fraud_labels, test_size=0.2)\n",
    "\n",
    "print(\"Split complete\")\n",
    "\n",
    "Xtrain = np.vstack((Xtrain_normal[:1000], Xtrain_fraud))\n",
    "Xtest = np.vstack((Xtest_normal[:200], Xtest_fraud))\n",
    "Ytrain = np.hstack((Ytrain_normal[:1000], Ytrain_fraud))\n",
    "Ytest = np.hstack((Ytest_normal[:200], Ytest_fraud))\n",
    "\n",
    "print(\"Training and test sets prepared\")"
   ]
  },
  {
   "cell_type": "code",
   "execution_count": 5,
   "id": "a7a08684-eb5f-4bfe-b172-70a1c5e39939",
   "metadata": {},
   "outputs": [],
   "source": [
    "# clf = svm.SVC(kernel=\"linear\")\n",
    "# clf.fit(Xtrain, Ytrain)\n",
    "\n",
    "# print(\"Training complete\")\n",
    "\n",
    "# Ptrain = clf.predict(Xtrain)\n",
    "# Ptest = clf.predict(Xtest)\n",
    "\n",
    "# train_accuracy = np.mean(np.equal(Ptrain, Ytrain).astype(float))\n",
    "# test_accuracy = np.mean(np.equal(Ptest, Ytest).astype(float))\n",
    "\n",
    "# print(\"Train accuracy:\", train_accuracy)\n",
    "# print(\"Test accuracy:\", test_accuracy)"
   ]
  },
  {
   "cell_type": "markdown",
   "id": "edc28081-57e8-4811-a21a-8fed05f7a789",
   "metadata": {},
   "source": [
    "**For this dataset, accuracies of more than 90% are not good because of the extremely skewed nature.**"
   ]
  },
  {
   "cell_type": "markdown",
   "id": "aa4b05d2-7632-445a-8883-61380ccfdb81",
   "metadata": {},
   "source": [
    "## Ensemble approach"
   ]
  },
  {
   "cell_type": "code",
   "execution_count": 8,
   "id": "88feb5a7-6c33-4f14-a572-99135fb0e6c1",
   "metadata": {},
   "outputs": [
    {
     "name": "stdout",
     "output_type": "stream",
     "text": [
      "SVM 1 trained, normal accuracy: 0.010797882630181313, fraud accuracy: 0.98989898989899\n",
      "SVM 2 trained, normal accuracy: 0.013998557937498901, fraud accuracy: 0.98989898989899\n",
      "SVM 3 trained, normal accuracy: 0.011149605191425004, fraud accuracy: 0.98989898989899\n",
      "SVM 4 trained, normal accuracy: 0.010885813270492236, fraud accuracy: 0.98989898989899\n",
      "SVM 5 trained, normal accuracy: 0.01109684680723845, fraud accuracy: 0.98989898989899\n",
      "SVM 6 trained, normal accuracy: 0.010868227142430052, fraud accuracy: 1.0\n",
      "SVM 7 trained, normal accuracy: 0.01202891159453423, fraud accuracy: 0.98989898989899\n",
      "SVM 8 trained, normal accuracy: 0.01028788491637796, fraud accuracy: 1.0\n",
      "SVM 9 trained, normal accuracy: 0.011817878057788016, fraud accuracy: 0.98989898989899\n",
      "SVM 10 trained, normal accuracy: 0.011395810984295587, fraud accuracy: 0.98989898989899\n",
      "SVM 11 trained, normal accuracy: 0.011237535831735927, fraud accuracy: 0.98989898989899\n",
      "SVM 12 trained, normal accuracy: 0.011483741624606511, fraud accuracy: 0.98989898989899\n",
      "SVM 13 trained, normal accuracy: 0.015669240103406434, fraud accuracy: 0.98989898989899\n",
      "SVM 14 trained, normal accuracy: 0.01619682394527197, fraud accuracy: 0.98989898989899\n",
      "SVM 15 trained, normal accuracy: 0.015141656261540896, fraud accuracy: 0.98989898989899\n",
      "SVM 16 trained, normal accuracy: 0.015264759157976189, fraud accuracy: 0.98989898989899\n",
      "SVM 17 trained, normal accuracy: 0.01109684680723845, fraud accuracy: 0.98989898989899\n",
      "SVM 18 trained, normal accuracy: 0.01364683537625521, fraud accuracy: 0.98989898989899\n",
      "SVM 19 trained, normal accuracy: 0.013682007632379579, fraud accuracy: 0.98989898989899\n",
      "SVM 20 trained, normal accuracy: 0.012855459613456905, fraud accuracy: 0.98989898989899\n"
     ]
    }
   ],
   "source": [
    "# Store all SVMs in a list\n",
    "classifiers = []\n",
    "num_ensembles = 20\n",
    "num_normal_points = 300\n",
    "\n",
    "# Xtrain = np.vstack((Xtrain_normal, Xtrain_fraud))\n",
    "# Xtest = np.vstack((Xtest_normal, Xtest_fraud))\n",
    "# Ytrain = np.hstack((Ytrain_normal, Ytrain_fraud))\n",
    "# Ytest = np.hstack((Ytest_normal, Ytest_fraud))\n",
    "\n",
    "# Train ensembles\n",
    "for i in range(num_ensembles):\n",
    "    normal_indices = np.random.choice(a=Xtrain_normal.shape[0], size=num_normal_points, replace=False)\n",
    "    \n",
    "    # Prepare training data\n",
    "    Xtrain = np.vstack((Xtrain_normal[normal_indices, :], Xtrain_fraud))\n",
    "    Ytrain = np.hstack((Ytrain_normal[normal_indices], Ytrain_fraud))\n",
    "    \n",
    "    # Train SVM\n",
    "    classifiers.append(svm.SVC())\n",
    "    clf = classifiers[-1]\n",
    "    clf.fit(Xtrain, Ytrain)\n",
    "    \n",
    "    # Test accuracy\n",
    "    Ptest_normal = clf.predict(Xtest_normal)\n",
    "    Ptest_fraud = clf.predict(Xtest_fraud)\n",
    "    \n",
    "    test_accuracy_normal = np.mean(np.equal(Ptest_normal, Ytest_normal).astype(float))\n",
    "    test_accuracy_fraud = np.mean(np.equal(Ptest_fraud, Ytest_fraud).astype(float))\n",
    "    \n",
    "    print(f\"SVM {i+1} trained, normal accuracy: {test_accuracy_normal}, fraud accuracy: {test_accuracy_fraud}\")"
   ]
  },
  {
   "cell_type": "code",
   "execution_count": 9,
   "id": "4c6669d3-907d-4ce6-8e3e-a45aecfba969",
   "metadata": {},
   "outputs": [
    {
     "name": "stdout",
     "output_type": "stream",
     "text": [
      "Test accuracy over all ensembles: 0.011835464185850202 0.98989898989899\n"
     ]
    }
   ],
   "source": [
    "# Test ensemble approach\n",
    "\n",
    "Ptest_normal = np.zeros(Ytest_normal.shape)\n",
    "Ptest_fraud = np.zeros(Ytest_fraud.shape)\n",
    "\n",
    "for i in range(num_ensembles):\n",
    "    Ptest_normal += classifiers[i].predict(Xtest_normal)\n",
    "    Ptest_fraud += classifiers[i].predict(Xtest_fraud)\n",
    "\n",
    "# Mean predictions over all ensembles\n",
    "Ptest_normal = Ptest_normal / num_ensembles\n",
    "Ptest_fraud = Ptest_fraud / num_ensembles\n",
    "\n",
    "Ptest_normal = Ptest_normal.round()\n",
    "Ptest_fraud = Ptest_fraud.round()\n",
    "\n",
    "# Compute accuracy\n",
    "test_accuracy_normal = np.mean(np.equal(Ptest_normal, Ytest_normal).astype(float))\n",
    "test_accuracy_fraud = np.mean(np.equal(Ptest_fraud, Ytest_fraud).astype(float))\n",
    "\n",
    "print(\"Test accuracy over all ensembles:\", test_accuracy_normal, test_accuracy_fraud)"
   ]
  },
  {
   "cell_type": "code",
   "execution_count": null,
   "id": "65d11203-77d1-429c-8e3c-f44bec47cf22",
   "metadata": {},
   "outputs": [],
   "source": []
  }
 ],
 "metadata": {
  "kernelspec": {
   "display_name": "Python 3 (ipykernel)",
   "language": "python",
   "name": "python3"
  },
  "language_info": {
   "codemirror_mode": {
    "name": "ipython",
    "version": 3
   },
   "file_extension": ".py",
   "mimetype": "text/x-python",
   "name": "python",
   "nbconvert_exporter": "python",
   "pygments_lexer": "ipython3",
   "version": "3.9.7"
  }
 },
 "nbformat": 4,
 "nbformat_minor": 5
}
